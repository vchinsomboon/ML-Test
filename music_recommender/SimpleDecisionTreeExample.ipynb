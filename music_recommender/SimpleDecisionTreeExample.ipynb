{
 "cells": [
  {
   "cell_type": "code",
   "execution_count": 115,
   "id": "86a7b4fb",
   "metadata": {},
   "outputs": [
    {
     "data": {
      "text/plain": [
       "['music-recommender.joblib']"
      ]
     },
     "execution_count": 115,
     "metadata": {},
     "output_type": "execute_result"
    }
   ],
   "source": [
    "import pandas as pd\n",
    "from sklearn.tree import DecisionTreeClassifier  # Import DecisionTreeClassifier from scikit-learn library\n",
    "from sklearn.model_selection import train_test_split  # Import train_test_split for splitting data\n",
    "from sklearn.metrics import accuracy_score  # Import accuracy_score for evaluating model performance\n",
    "import joblib  # Import joblib for model persistence\n",
    "\n",
    "music_data = pd.read_csv('music.csv')\n",
    "\n",
    "# Prepare input (X) and output (y) data\n",
    "X = music_data.drop(columns=['genre'])  # Exclude 'genre' column from input data\n",
    "y = music_data['genre']  # Use 'genre' column as output data (target)\n",
    "\n",
    "# Set a fixed random seed for reproducible results\n",
    "random_seed = 42  # Choose any integer seed value for consistency\n",
    "\n",
    "# Split the data into training and testing sets with a fixed random seed (without a fixd seed, the train/test sets will change every time since it's randomly generated)\n",
    "X_train, X_test, y_train, y_test = train_test_split(X, y, test_size=0.2, random_state=random_seed)\n",
    "\n",
    "# Initialize Decision Tree classifier model\n",
    "model = DecisionTreeClassifier()\n",
    "\n",
    "# Train the model using the training data\n",
    "model.fit(X_train, y_train)\n",
    "\n",
    "# Make predictions on the test data\n",
    "predictions = model.predict(X_test)\n",
    "\n",
    "# Evaluate the model accuracy by comparing predictions to actual y_test values\n",
    "score = accuracy_score(y_test, predictions)  # Calculate how accurate the predictions are to y_test\n",
    "score\n",
    "\n",
    "# Persist the trained model by saving it to a .joblib file\n",
    "# joblib.dump(model, 'music-recommender.joblib')"
   ]
  },
  {
   "cell_type": "code",
   "execution_count": 4,
   "id": "ea6ceaec",
   "metadata": {},
   "outputs": [
    {
     "name": "stderr",
     "output_type": "stream",
     "text": [
      "/Users/varalee/opt/anaconda3/lib/python3.9/site-packages/sklearn/base.py:450: UserWarning: X does not have valid feature names, but DecisionTreeClassifier was fitted with feature names\n",
      "  warnings.warn(\n"
     ]
    },
    {
     "data": {
      "text/plain": [
       "array(['Dance', 'Jazz'], dtype=object)"
      ]
     },
     "execution_count": 4,
     "metadata": {},
     "output_type": "execute_result"
    }
   ],
   "source": [
    "import pandas as pd\n",
    "from sklearn.tree import DecisionTreeClassifier  # Import DecisionTreeClassifier from scikit-learn library\n",
    "from sklearn.model_selection import train_test_split  # Import train_test_split for splitting data\n",
    "from sklearn.metrics import accuracy_score  # Import accuracy_score for evaluating model performance\n",
    "import joblib  # Import joblib for model persistence\n",
    "\n",
    "# Load the persisted model to make predictions\n",
    "model = joblib.load('music-recommender.joblib')\n",
    "\n",
    "# Input new data points to predict their genre\n",
    "predictions = model.predict([[20, 0], [28, 1]])\n",
    "\n",
    "# Display the predictions based on the input data\n",
    "predictions"
   ]
  },
  {
   "cell_type": "code",
   "execution_count": 118,
   "id": "32dd92d3",
   "metadata": {},
   "outputs": [],
   "source": [
    "import pandas as pd\n",
    "from sklearn.tree import DecisionTreeClassifier  \n",
    "from sklearn.model_selection import train_test_split  \n",
    "from sklearn.metrics import accuracy_score  \n",
    "from sklearn import tree\n",
    "\n",
    "music_data = pd.read_csv('music.csv')\n",
    "X = music_data.drop(columns=['genre'])\n",
    "y = music_data['genre'] \n",
    "\n",
    "random_seed = 42\n",
    "X_train, X_test, y_train, y_test = train_test_split(X, y, test_size=0.2, random_state=random_seed)\n",
    "\n",
    "model = DecisionTreeClassifier()\n",
    "model.fit(X_train, y_train)\n",
    "\n",
    "tree.export_graphviz(model, \n",
    "                     out_file='music-recommender.dot', \n",
    "                     feature_names=['age', 'gender'], \n",
    "                     class_names=sorted(y.unique()), \n",
    "                     label='all',\n",
    "                     rounded=True, \n",
    "                     filled=True)"
   ]
  }
 ],
 "metadata": {
  "kernelspec": {
   "display_name": "Python 3 (ipykernel)",
   "language": "python",
   "name": "python3"
  },
  "language_info": {
   "codemirror_mode": {
    "name": "ipython",
    "version": 3
   },
   "file_extension": ".py",
   "mimetype": "text/x-python",
   "name": "python",
   "nbconvert_exporter": "python",
   "pygments_lexer": "ipython3",
   "version": "3.9.12"
  }
 },
 "nbformat": 4,
 "nbformat_minor": 5
}
