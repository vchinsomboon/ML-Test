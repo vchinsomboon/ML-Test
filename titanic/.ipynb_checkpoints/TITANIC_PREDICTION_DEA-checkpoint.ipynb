{
 "cells": [
  {
   "cell_type": "code",
   "execution_count": 148,
   "id": "96860b1c",
   "metadata": {
    "_cell_guid": "b1076dfc-b9ad-4769-8c92-a6c4dae69d19",
    "_uuid": "8f2839f25d086af736a60e9eeb907d3b93b6e0e5",
    "papermill": {
     "duration": 2.068741,
     "end_time": "2024-06-27T05:54:21.880798",
     "exception": false,
     "start_time": "2024-06-27T05:54:19.812057",
     "status": "completed"
    },
    "tags": []
   },
   "outputs": [],
   "source": [
    "import numpy as np\n",
    "import pandas as pd\n",
    "from sklearn.preprocessing import StandardScaler, MinMaxScaler, OneHotEncoder\n",
    "from sklearn.model_selection import train_test_split, GridSearchCV\n",
    "from sklearn.compose import ColumnTransformer\n",
    "from sklearn.pipeline import Pipeline\n",
    "from sklearn.metrics import classification_report, confusion_matrix, accuracy_score\n",
    "from sklearn.impute import SimpleImputer\n",
    "from sklearn.base import BaseEstimator, TransformerMixin\n",
    "from sklearn.tree import DecisionTreeClassifier\n",
    "from sklearn.ensemble import RandomForestClassifier\n",
    "import joblib  # Import joblib for model persistence"
   ]
  },
  {
   "cell_type": "code",
   "execution_count": 149,
   "id": "216a465d",
   "metadata": {
    "papermill": {
     "duration": 0.053274,
     "end_time": "2024-06-27T05:54:21.962079",
     "exception": false,
     "start_time": "2024-06-27T05:54:21.908805",
     "status": "completed"
    },
    "tags": []
   },
   "outputs": [
    {
     "data": {
      "text/html": [
       "<div>\n",
       "<style scoped>\n",
       "    .dataframe tbody tr th:only-of-type {\n",
       "        vertical-align: middle;\n",
       "    }\n",
       "\n",
       "    .dataframe tbody tr th {\n",
       "        vertical-align: top;\n",
       "    }\n",
       "\n",
       "    .dataframe thead th {\n",
       "        text-align: right;\n",
       "    }\n",
       "</style>\n",
       "<table border=\"1\" class=\"dataframe\">\n",
       "  <thead>\n",
       "    <tr style=\"text-align: right;\">\n",
       "      <th></th>\n",
       "      <th>PassengerId</th>\n",
       "      <th>Survived</th>\n",
       "      <th>Pclass</th>\n",
       "      <th>Name</th>\n",
       "      <th>Sex</th>\n",
       "      <th>Age</th>\n",
       "      <th>SibSp</th>\n",
       "      <th>Parch</th>\n",
       "      <th>Ticket</th>\n",
       "      <th>Fare</th>\n",
       "      <th>Cabin</th>\n",
       "      <th>Embarked</th>\n",
       "    </tr>\n",
       "  </thead>\n",
       "  <tbody>\n",
       "    <tr>\n",
       "      <th>0</th>\n",
       "      <td>1</td>\n",
       "      <td>0</td>\n",
       "      <td>3</td>\n",
       "      <td>Braund, Mr. Owen Harris</td>\n",
       "      <td>male</td>\n",
       "      <td>22.0</td>\n",
       "      <td>1</td>\n",
       "      <td>0</td>\n",
       "      <td>A/5 21171</td>\n",
       "      <td>7.2500</td>\n",
       "      <td>NaN</td>\n",
       "      <td>S</td>\n",
       "    </tr>\n",
       "    <tr>\n",
       "      <th>1</th>\n",
       "      <td>2</td>\n",
       "      <td>1</td>\n",
       "      <td>1</td>\n",
       "      <td>Cumings, Mrs. John Bradley (Florence Briggs Th...</td>\n",
       "      <td>female</td>\n",
       "      <td>38.0</td>\n",
       "      <td>1</td>\n",
       "      <td>0</td>\n",
       "      <td>PC 17599</td>\n",
       "      <td>71.2833</td>\n",
       "      <td>C85</td>\n",
       "      <td>C</td>\n",
       "    </tr>\n",
       "    <tr>\n",
       "      <th>2</th>\n",
       "      <td>3</td>\n",
       "      <td>1</td>\n",
       "      <td>3</td>\n",
       "      <td>Heikkinen, Miss. Laina</td>\n",
       "      <td>female</td>\n",
       "      <td>26.0</td>\n",
       "      <td>0</td>\n",
       "      <td>0</td>\n",
       "      <td>STON/O2. 3101282</td>\n",
       "      <td>7.9250</td>\n",
       "      <td>NaN</td>\n",
       "      <td>S</td>\n",
       "    </tr>\n",
       "    <tr>\n",
       "      <th>3</th>\n",
       "      <td>4</td>\n",
       "      <td>1</td>\n",
       "      <td>1</td>\n",
       "      <td>Futrelle, Mrs. Jacques Heath (Lily May Peel)</td>\n",
       "      <td>female</td>\n",
       "      <td>35.0</td>\n",
       "      <td>1</td>\n",
       "      <td>0</td>\n",
       "      <td>113803</td>\n",
       "      <td>53.1000</td>\n",
       "      <td>C123</td>\n",
       "      <td>S</td>\n",
       "    </tr>\n",
       "    <tr>\n",
       "      <th>4</th>\n",
       "      <td>5</td>\n",
       "      <td>0</td>\n",
       "      <td>3</td>\n",
       "      <td>Allen, Mr. William Henry</td>\n",
       "      <td>male</td>\n",
       "      <td>35.0</td>\n",
       "      <td>0</td>\n",
       "      <td>0</td>\n",
       "      <td>373450</td>\n",
       "      <td>8.0500</td>\n",
       "      <td>NaN</td>\n",
       "      <td>S</td>\n",
       "    </tr>\n",
       "  </tbody>\n",
       "</table>\n",
       "</div>"
      ],
      "text/plain": [
       "   PassengerId  Survived  Pclass  \\\n",
       "0            1         0       3   \n",
       "1            2         1       1   \n",
       "2            3         1       3   \n",
       "3            4         1       1   \n",
       "4            5         0       3   \n",
       "\n",
       "                                                Name     Sex   Age  SibSp  \\\n",
       "0                            Braund, Mr. Owen Harris    male  22.0      1   \n",
       "1  Cumings, Mrs. John Bradley (Florence Briggs Th...  female  38.0      1   \n",
       "2                             Heikkinen, Miss. Laina  female  26.0      0   \n",
       "3       Futrelle, Mrs. Jacques Heath (Lily May Peel)  female  35.0      1   \n",
       "4                           Allen, Mr. William Henry    male  35.0      0   \n",
       "\n",
       "   Parch            Ticket     Fare Cabin Embarked  \n",
       "0      0         A/5 21171   7.2500   NaN        S  \n",
       "1      0          PC 17599  71.2833   C85        C  \n",
       "2      0  STON/O2. 3101282   7.9250   NaN        S  \n",
       "3      0            113803  53.1000  C123        S  \n",
       "4      0            373450   8.0500   NaN        S  "
      ]
     },
     "execution_count": 149,
     "metadata": {},
     "output_type": "execute_result"
    }
   ],
   "source": [
    "# Load Data\n",
    "df = pd.read_csv('train.csv')\n",
    "df.head()"
   ]
  },
  {
   "cell_type": "code",
   "execution_count": 150,
   "id": "a7fc318b",
   "metadata": {
    "papermill": {
     "duration": 0.0292,
     "end_time": "2024-06-27T05:54:24.280545",
     "exception": false,
     "start_time": "2024-06-27T05:54:24.251345",
     "status": "completed"
    },
    "tags": []
   },
   "outputs": [
    {
     "data": {
      "text/plain": [
       "Index(['PassengerId', 'Survived', 'Pclass', 'Name', 'Sex', 'Age', 'SibSp',\n",
       "       'Parch', 'Ticket', 'Fare', 'Cabin', 'Embarked'],\n",
       "      dtype='object')"
      ]
     },
     "execution_count": 150,
     "metadata": {},
     "output_type": "execute_result"
    }
   ],
   "source": [
    "df.columns"
   ]
  },
  {
   "cell_type": "code",
   "execution_count": 151,
   "id": "53eabd42",
   "metadata": {
    "papermill": {
     "duration": 0.018031,
     "end_time": "2024-06-27T05:54:24.308859",
     "exception": false,
     "start_time": "2024-06-27T05:54:24.290828",
     "status": "completed"
    },
    "tags": []
   },
   "outputs": [],
   "source": [
    "# Desired Features\n",
    "features = ['Pclass', 'Sex', 'Age', 'SibSp',\n",
    "       'Parch', 'Fare', 'Embarked'] \n",
    "# Omit Name, Ticket and Cabin"
   ]
  },
  {
   "cell_type": "code",
   "execution_count": 152,
   "id": "61c30085",
   "metadata": {
    "papermill": {
     "duration": 0.021518,
     "end_time": "2024-06-27T05:54:24.340505",
     "exception": false,
     "start_time": "2024-06-27T05:54:24.318987",
     "status": "completed"
    },
    "tags": []
   },
   "outputs": [
    {
     "data": {
      "text/plain": [
       "(['Pclass', 'Age', 'SibSp', 'Parch', 'Fare'], ['Sex', 'Embarked'])"
      ]
     },
     "execution_count": 152,
     "metadata": {},
     "output_type": "execute_result"
    }
   ],
   "source": [
    "# Numerical features are stored in num_features, categorical features are stored in cat_features\n",
    "num_features, cat_features = [], []\n",
    "\n",
    "# Identify numerical and categorical features based on dtype\n",
    "# 'object' dtype indicates categorical data, while 'int' and 'float' indicate numerical data\n",
    "for i in features:\n",
    "    if df[i].dtype == 'object':\n",
    "        cat_features.append(i)\n",
    "#     elif i == 'Pclass':\n",
    "#         continue\n",
    "    else:\n",
    "        num_features.append(i)\n",
    "\n",
    "num_features, cat_features"
   ]
  },
  {
   "cell_type": "code",
   "execution_count": 153,
   "id": "8f9c1007",
   "metadata": {
    "papermill": {
     "duration": 0.424185,
     "end_time": "2024-06-27T05:54:24.775136",
     "exception": false,
     "start_time": "2024-06-27T05:54:24.350951",
     "status": "completed"
    },
    "tags": []
   },
   "outputs": [],
   "source": [
    "# Custom transformer for feature engineering\n",
    "class FeatureEngineering(BaseEstimator, TransformerMixin):\n",
    "    def fit(self, X, y=None):\n",
    "        return self\n",
    "\n",
    "    def transform(self, X, y=None):\n",
    "        X = X.copy()\n",
    "        # Create new feature 'FamilySize' as sum of 'SibSp', 'Parch' and 1 (for the individual)\n",
    "        X['FamilySize'] = X['SibSp'] + X['Parch'] + 1\n",
    "        # Create new feature 'IsAlone' which is 1 if 'FamilySize' is 1, otherwise 0\n",
    "        X['IsAlone'] = (X['FamilySize'] == 1).astype(int)\n",
    "        return X"
   ]
  },
  {
   "cell_type": "code",
   "execution_count": 154,
   "id": "f215d156",
   "metadata": {
    "papermill": {
     "duration": 0.027251,
     "end_time": "2024-06-27T05:54:24.812935",
     "exception": false,
     "start_time": "2024-06-27T05:54:24.785684",
     "status": "completed"
    },
    "tags": []
   },
   "outputs": [],
   "source": [
    "# Split Data for training and testing\n",
    "# X_train: Features for training the model\n",
    "# X_test: Features for evaluating the model's performance\n",
    "# y_train: Target values for training the model\n",
    "# y_test: Target values for evaluating the model's predictions\n",
    "X_train, X_test, y_train, y_test = train_test_split(df[features], df['Survived'], test_size=0.2, random_state=42, shuffle=True)"
   ]
  },
  {
   "cell_type": "code",
   "execution_count": 155,
   "id": "3c8c5adc",
   "metadata": {
    "papermill": {
     "duration": 0.021017,
     "end_time": "2024-06-27T05:54:24.844900",
     "exception": false,
     "start_time": "2024-06-27T05:54:24.823883",
     "status": "completed"
    },
    "tags": []
   },
   "outputs": [],
   "source": [
    "# Create pipeline for numerical features\n",
    "num_transformer = Pipeline(steps=[\n",
    "    ('num_imputer', SimpleImputer(strategy='mean')),  # Step 1: Impute missing numerical values with the mean\n",
    "    ('scaler', MinMaxScaler())  # Step 2: Scale numerical features to a specified range (default is [0,1])\n",
    "])\n",
    "\n",
    "# Create pipeline for categorical features\n",
    "cat_transformer = Pipeline(steps=[\n",
    "    ('cat_imputer', SimpleImputer(strategy='most_frequent')),  # Step 1: Impute missing categorical values with the most frequent value\n",
    "    ('encoder', OneHotEncoder(handle_unknown='error', drop='first'))  # Step 2: Encode categorical features using one-hot encoding, dropping the first category to avoid multicollinearity\n",
    "])"
   ]
  },
  {
   "cell_type": "code",
   "execution_count": 156,
   "id": "ca96bf56",
   "metadata": {
    "papermill": {
     "duration": 0.019539,
     "end_time": "2024-06-27T05:54:24.875030",
     "exception": false,
     "start_time": "2024-06-27T05:54:24.855491",
     "status": "completed"
    },
    "tags": []
   },
   "outputs": [],
   "source": [
    "# ColumnTransformer to preprocess numerical and categorical features\n",
    "preprocess = ColumnTransformer(transformers=[\n",
    "    ('num', num_transformer, num_features),  # Apply num_transformer to numerical features\n",
    "    ('cat', cat_transformer, cat_features)   # Apply cat_transformer to categorical features\n",
    "])"
   ]
  },
  {
   "cell_type": "code",
   "execution_count": 157,
   "id": "bd82770c",
   "metadata": {
    "papermill": {
     "duration": 0.091985,
     "end_time": "2024-06-27T05:54:25.188884",
     "exception": false,
     "start_time": "2024-06-27T05:54:25.096899",
     "status": "completed"
    },
    "tags": []
   },
   "outputs": [
    {
     "name": "stdout",
     "output_type": "stream",
     "text": [
      "Best parameters found: {'model__criterion': 'gini', 'model__max_depth': 3, 'model__min_samples_leaf': 4, 'model__min_samples_split': 2}\n",
      "Best cross-validation score: 0.8230\n",
      "Test set accuracy with best Decision Tree model: 0.80\n",
      "              precision    recall  f1-score   support\n",
      "\n",
      "           0       0.80      0.88      0.84       105\n",
      "           1       0.80      0.69      0.74        74\n",
      "\n",
      "    accuracy                           0.80       179\n",
      "   macro avg       0.80      0.78      0.79       179\n",
      "weighted avg       0.80      0.80      0.80       179\n",
      "\n",
      "[[92 13]\n",
      " [23 51]]\n"
     ]
    }
   ],
   "source": [
    "# DECISION TREE\n",
    "\n",
    "# Create the final pipeline with feature engineering and preprocessing\n",
    "pipeline = Pipeline(steps=[\n",
    "    ('feature_engineering', FeatureEngineering()),  # Apply custom feature engineering\n",
    "    ('preprocess', preprocess),  # Apply preprocessing steps\n",
    "    ('model', DecisionTreeClassifier(random_state=42, class_weight='balanced'))  # Train a Decision Tree classifier\n",
    "])\n",
    "\n",
    "# Define the parameter grid to search over\n",
    "param_grid = {\n",
    "    'model__max_depth': [3, 5, 7, 10, None],  # Depth of the tree\n",
    "    'model__min_samples_split': [2, 5, 10],  # Minimum number of samples required to split an internal node\n",
    "    'model__min_samples_leaf': [1, 2, 4],  # Minimum number of samples required to be at a leaf node\n",
    "    'model__criterion': ['gini', 'entropy']  # Function to measure the quality of a split\n",
    "}\n",
    "\n",
    "# Create the GridSearchCV object\n",
    "grid_search = GridSearchCV(estimator=pipeline, param_grid=param_grid, cv=5, n_jobs=-1, scoring='accuracy')\n",
    "\n",
    "# Fit the model\n",
    "grid_search.fit(X_train, y_train)\n",
    "\n",
    "# Get the best parameters and best score from the grid search\n",
    "best_params = grid_search.best_params_\n",
    "best_score = grid_search.best_score_\n",
    "\n",
    "print(f\"Best parameters found: {best_params}\")\n",
    "print(f\"Best cross-validation score: {best_score:.4f}\")\n",
    "\n",
    "# Evaluate the best model on the test set\n",
    "dt_model = grid_search.best_estimator_\n",
    "y_pred = dt_model.predict(X_test)\n",
    "accuracy = accuracy_score(y_test, y_pred)\n",
    "print(\"Test set accuracy with best Decision Tree model: {:.2f}\".format(accuracy))\n",
    "\n",
    "print(classification_report(y_test, y_pred))  # Print classification report\n",
    "print(confusion_matrix(y_test, y_pred))  # Print confusion matrix"
   ]
  },
  {
   "cell_type": "code",
   "execution_count": 158,
   "id": "c9b37186",
   "metadata": {
    "papermill": {
     "duration": 0.352638,
     "end_time": "2024-06-27T05:54:25.552937",
     "exception": false,
     "start_time": "2024-06-27T05:54:25.200299",
     "status": "completed"
    },
    "tags": []
   },
   "outputs": [
    {
     "name": "stdout",
     "output_type": "stream",
     "text": [
      "Best parameters found for Random Forest: {'model__criterion': 'entropy', 'model__max_depth': 10, 'model__min_samples_leaf': 1, 'model__min_samples_split': 2, 'model__n_estimators': 100}\n",
      "Best cross-validation score: 0.8160\n",
      "Test set accuracy with best Random Forest model: 0.83\n",
      "Classification Report:\n",
      "              precision    recall  f1-score   support\n",
      "\n",
      "           0       0.84      0.89      0.86       105\n",
      "           1       0.82      0.76      0.79        74\n",
      "\n",
      "    accuracy                           0.83       179\n",
      "   macro avg       0.83      0.82      0.82       179\n",
      "weighted avg       0.83      0.83      0.83       179\n",
      "\n",
      "Confusion Matrix:\n",
      "[[93 12]\n",
      " [18 56]]\n"
     ]
    },
    {
     "data": {
      "text/plain": [
       "['titanic-survival-model.joblib']"
      ]
     },
     "execution_count": 158,
     "metadata": {},
     "output_type": "execute_result"
    }
   ],
   "source": [
    "# Random Forest\n",
    "\n",
    "# Create the final pipeline with feature engineering and preprocessing\n",
    "pipeline = Pipeline(steps=[\n",
    "    ('feature_engineering', FeatureEngineering()),  # Apply custom feature engineering\n",
    "    ('preprocess', preprocess),  # Apply preprocessing steps\n",
    "    ('model', RandomForestClassifier(random_state=42, class_weight='balanced'))  # Train a Random Forest classifier\n",
    "])\n",
    "\n",
    "# Define the parameter grid to search over for Random Forest\n",
    "param_grid = {\n",
    "    'model__n_estimators': [50, 100, 200],  # Number of trees in the forest\n",
    "    'model__max_depth': [None, 10, 20],  # Maximum depth of the tree\n",
    "    'model__min_samples_split': [2, 5, 10],  # Minimum number of samples required to split an internal node\n",
    "    'model__min_samples_leaf': [1, 2, 4],  # Minimum number of samples required to be at a leaf node\n",
    "    'model__criterion': ['gini', 'entropy']  # Function to measure the quality of a split\n",
    "}\n",
    "\n",
    "# Create the GridSearchCV object for Random Forest\n",
    "grid_search = GridSearchCV(estimator=pipeline, param_grid=param_grid, cv=5, n_jobs=-1, scoring='accuracy')\n",
    "\n",
    "# Fit the model\n",
    "grid_search.fit(X_train, y_train)\n",
    "\n",
    "# Get the best parameters and best score from the grid search\n",
    "best_params = grid_search.best_params_\n",
    "best_score = grid_search.best_score_\n",
    "\n",
    "print(f\"Best parameters found for Random Forest: {best_params}\")\n",
    "print(f\"Best cross-validation score: {best_score:.4f}\")\n",
    "\n",
    "# Evaluate the best model on the test set\n",
    "rf_model = grid_search.best_estimator_\n",
    "y_pred = rf_model.predict(X_test)\n",
    "accuracy = accuracy_score(y_test, y_pred)\n",
    "print(\"Test set accuracy with best Random Forest model: {:.2f}\".format(accuracy))\n",
    "\n",
    "# Print classification report\n",
    "print(\"Classification Report:\")\n",
    "print(classification_report(y_test, y_pred))\n",
    "\n",
    "# Print confusion matrix\n",
    "print(\"Confusion Matrix:\")\n",
    "print(confusion_matrix(y_test, y_pred))\n",
    "\n",
    "joblib.dump(rf_model, 'titanic-survival-model.joblib')\n"
   ]
  },
  {
   "cell_type": "code",
   "execution_count": 159,
   "id": "70a05d73",
   "metadata": {
    "papermill": {
     "duration": 0.035976,
     "end_time": "2024-06-27T05:54:25.601815",
     "exception": false,
     "start_time": "2024-06-27T05:54:25.565839",
     "status": "completed"
    },
    "tags": []
   },
   "outputs": [
    {
     "data": {
      "text/html": [
       "<div>\n",
       "<style scoped>\n",
       "    .dataframe tbody tr th:only-of-type {\n",
       "        vertical-align: middle;\n",
       "    }\n",
       "\n",
       "    .dataframe tbody tr th {\n",
       "        vertical-align: top;\n",
       "    }\n",
       "\n",
       "    .dataframe thead th {\n",
       "        text-align: right;\n",
       "    }\n",
       "</style>\n",
       "<table border=\"1\" class=\"dataframe\">\n",
       "  <thead>\n",
       "    <tr style=\"text-align: right;\">\n",
       "      <th></th>\n",
       "      <th>PassengerId</th>\n",
       "      <th>Pclass</th>\n",
       "      <th>Name</th>\n",
       "      <th>Sex</th>\n",
       "      <th>Age</th>\n",
       "      <th>SibSp</th>\n",
       "      <th>Parch</th>\n",
       "      <th>Ticket</th>\n",
       "      <th>Fare</th>\n",
       "      <th>Cabin</th>\n",
       "      <th>Embarked</th>\n",
       "    </tr>\n",
       "  </thead>\n",
       "  <tbody>\n",
       "    <tr>\n",
       "      <th>0</th>\n",
       "      <td>892</td>\n",
       "      <td>3</td>\n",
       "      <td>Kelly, Mr. James</td>\n",
       "      <td>male</td>\n",
       "      <td>34.5</td>\n",
       "      <td>0</td>\n",
       "      <td>0</td>\n",
       "      <td>330911</td>\n",
       "      <td>7.8292</td>\n",
       "      <td>NaN</td>\n",
       "      <td>Q</td>\n",
       "    </tr>\n",
       "    <tr>\n",
       "      <th>1</th>\n",
       "      <td>893</td>\n",
       "      <td>3</td>\n",
       "      <td>Wilkes, Mrs. James (Ellen Needs)</td>\n",
       "      <td>female</td>\n",
       "      <td>47.0</td>\n",
       "      <td>1</td>\n",
       "      <td>0</td>\n",
       "      <td>363272</td>\n",
       "      <td>7.0000</td>\n",
       "      <td>NaN</td>\n",
       "      <td>S</td>\n",
       "    </tr>\n",
       "    <tr>\n",
       "      <th>2</th>\n",
       "      <td>894</td>\n",
       "      <td>2</td>\n",
       "      <td>Myles, Mr. Thomas Francis</td>\n",
       "      <td>male</td>\n",
       "      <td>62.0</td>\n",
       "      <td>0</td>\n",
       "      <td>0</td>\n",
       "      <td>240276</td>\n",
       "      <td>9.6875</td>\n",
       "      <td>NaN</td>\n",
       "      <td>Q</td>\n",
       "    </tr>\n",
       "    <tr>\n",
       "      <th>3</th>\n",
       "      <td>895</td>\n",
       "      <td>3</td>\n",
       "      <td>Wirz, Mr. Albert</td>\n",
       "      <td>male</td>\n",
       "      <td>27.0</td>\n",
       "      <td>0</td>\n",
       "      <td>0</td>\n",
       "      <td>315154</td>\n",
       "      <td>8.6625</td>\n",
       "      <td>NaN</td>\n",
       "      <td>S</td>\n",
       "    </tr>\n",
       "    <tr>\n",
       "      <th>4</th>\n",
       "      <td>896</td>\n",
       "      <td>3</td>\n",
       "      <td>Hirvonen, Mrs. Alexander (Helga E Lindqvist)</td>\n",
       "      <td>female</td>\n",
       "      <td>22.0</td>\n",
       "      <td>1</td>\n",
       "      <td>1</td>\n",
       "      <td>3101298</td>\n",
       "      <td>12.2875</td>\n",
       "      <td>NaN</td>\n",
       "      <td>S</td>\n",
       "    </tr>\n",
       "  </tbody>\n",
       "</table>\n",
       "</div>"
      ],
      "text/plain": [
       "   PassengerId  Pclass                                          Name     Sex  \\\n",
       "0          892       3                              Kelly, Mr. James    male   \n",
       "1          893       3              Wilkes, Mrs. James (Ellen Needs)  female   \n",
       "2          894       2                     Myles, Mr. Thomas Francis    male   \n",
       "3          895       3                              Wirz, Mr. Albert    male   \n",
       "4          896       3  Hirvonen, Mrs. Alexander (Helga E Lindqvist)  female   \n",
       "\n",
       "    Age  SibSp  Parch   Ticket     Fare Cabin Embarked  \n",
       "0  34.5      0      0   330911   7.8292   NaN        Q  \n",
       "1  47.0      1      0   363272   7.0000   NaN        S  \n",
       "2  62.0      0      0   240276   9.6875   NaN        Q  \n",
       "3  27.0      0      0   315154   8.6625   NaN        S  \n",
       "4  22.0      1      1  3101298  12.2875   NaN        S  "
      ]
     },
     "execution_count": 159,
     "metadata": {},
     "output_type": "execute_result"
    }
   ],
   "source": [
    "# Load new data\n",
    "test_df=pd.read_csv('test.csv')\n",
    "test_df.head()"
   ]
  },
  {
   "cell_type": "code",
   "execution_count": 160,
   "id": "c530acc9",
   "metadata": {
    "papermill": {
     "duration": 0.063076,
     "end_time": "2024-06-27T05:54:25.676521",
     "exception": false,
     "start_time": "2024-06-27T05:54:25.613445",
     "status": "completed"
    },
    "tags": []
   },
   "outputs": [],
   "source": [
    "# Predict using random forest model\n",
    "test_preds1 = rf_model.predict(test_df[features])\n",
    "\n",
    "# Predict using decision tree model\n",
    "test_preds2 = dt_model.predict(test_df[features])"
   ]
  },
  {
   "cell_type": "code",
   "execution_count": 162,
   "id": "2edfea94",
   "metadata": {
    "papermill": {
     "duration": 0.025806,
     "end_time": "2024-06-27T05:54:25.748655",
     "exception": false,
     "start_time": "2024-06-27T05:54:25.722849",
     "status": "completed"
    },
    "tags": []
   },
   "outputs": [
    {
     "data": {
      "text/html": [
       "<div>\n",
       "<style scoped>\n",
       "    .dataframe tbody tr th:only-of-type {\n",
       "        vertical-align: middle;\n",
       "    }\n",
       "\n",
       "    .dataframe tbody tr th {\n",
       "        vertical-align: top;\n",
       "    }\n",
       "\n",
       "    .dataframe thead th {\n",
       "        text-align: right;\n",
       "    }\n",
       "</style>\n",
       "<table border=\"1\" class=\"dataframe\">\n",
       "  <thead>\n",
       "    <tr style=\"text-align: right;\">\n",
       "      <th></th>\n",
       "      <th>PassengerId</th>\n",
       "      <th>Survived</th>\n",
       "    </tr>\n",
       "  </thead>\n",
       "  <tbody>\n",
       "    <tr>\n",
       "      <th>0</th>\n",
       "      <td>892</td>\n",
       "      <td>0</td>\n",
       "    </tr>\n",
       "    <tr>\n",
       "      <th>1</th>\n",
       "      <td>893</td>\n",
       "      <td>0</td>\n",
       "    </tr>\n",
       "    <tr>\n",
       "      <th>2</th>\n",
       "      <td>894</td>\n",
       "      <td>0</td>\n",
       "    </tr>\n",
       "    <tr>\n",
       "      <th>3</th>\n",
       "      <td>895</td>\n",
       "      <td>0</td>\n",
       "    </tr>\n",
       "    <tr>\n",
       "      <th>4</th>\n",
       "      <td>896</td>\n",
       "      <td>1</td>\n",
       "    </tr>\n",
       "  </tbody>\n",
       "</table>\n",
       "</div>"
      ],
      "text/plain": [
       "   PassengerId  Survived\n",
       "0          892         0\n",
       "1          893         0\n",
       "2          894         0\n",
       "3          895         0\n",
       "4          896         1"
      ]
     },
     "execution_count": 162,
     "metadata": {},
     "output_type": "execute_result"
    }
   ],
   "source": [
    "# Output answer using Random Forest Model\n",
    "\n",
    "ans_df=pd.DataFrame({'PassengerId': test_df.PassengerId, 'Survived':test_preds1})\n",
    "ans_df.head()"
   ]
  },
  {
   "cell_type": "code",
   "execution_count": 163,
   "id": "0f5ad2be",
   "metadata": {
    "papermill": {
     "duration": 0.023064,
     "end_time": "2024-06-27T05:54:25.783886",
     "exception": false,
     "start_time": "2024-06-27T05:54:25.760822",
     "status": "completed"
    },
    "tags": []
   },
   "outputs": [],
   "source": [
    "# Output to csv\n",
    "ans_df.to_csv('ans_2.csv',index=False)"
   ]
  },
  {
   "cell_type": "code",
   "execution_count": 164,
   "id": "d5be7691",
   "metadata": {
    "papermill": {
     "duration": 0.011437,
     "end_time": "2024-06-27T05:54:25.807394",
     "exception": false,
     "start_time": "2024-06-27T05:54:25.795957",
     "status": "completed"
    },
    "tags": []
   },
   "outputs": [],
   "source": [
    "# Alternate method: predict using saved model from .joblib file\n",
    "\n",
    "# Load the persisted model to make predictions\n",
    "loaded_model = joblib.load('titanic-survival-model.joblib')\n",
    "\n",
    "# Input new data points to predict their genre\n",
    "predictions = loaded_model.predict(test_df[features])\n",
    "\n",
    "output = pd.DataFrame({'PassengerId': test_df.PassengerId, 'Survived': predictions})\n",
    "output.to_csv('submission.csv', index=False)"
   ]
  }
 ],
 "metadata": {
  "kaggle": {
   "accelerator": "none",
   "dataSources": [
    {
     "databundleVersionId": 26502,
     "sourceId": 3136,
     "sourceType": "competition"
    }
   ],
   "dockerImageVersionId": 30732,
   "isGpuEnabled": false,
   "isInternetEnabled": true,
   "language": "python",
   "sourceType": "notebook"
  },
  "kernelspec": {
   "display_name": "Python 3 (ipykernel)",
   "language": "python",
   "name": "python3"
  },
  "language_info": {
   "codemirror_mode": {
    "name": "ipython",
    "version": 3
   },
   "file_extension": ".py",
   "mimetype": "text/x-python",
   "name": "python",
   "nbconvert_exporter": "python",
   "pygments_lexer": "ipython3",
   "version": "3.9.12"
  },
  "papermill": {
   "default_parameters": {},
   "duration": 9.291404,
   "end_time": "2024-06-27T05:54:26.439659",
   "environment_variables": {},
   "exception": null,
   "input_path": "__notebook__.ipynb",
   "output_path": "__notebook__.ipynb",
   "parameters": {},
   "start_time": "2024-06-27T05:54:17.148255",
   "version": "2.5.0"
  }
 },
 "nbformat": 4,
 "nbformat_minor": 5
}
